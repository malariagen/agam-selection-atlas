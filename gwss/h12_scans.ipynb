{
 "cells": [
  {
   "cell_type": "markdown",
   "metadata": {},
   "source": [
    "# H12 genome-wide selection scans\n",
    "\n",
    "This notebook runs genome-wide selection scans."
   ]
  },
  {
   "cell_type": "code",
   "execution_count": 14,
   "metadata": {},
   "outputs": [],
   "source": [
    "import zarr\n",
    "from pyprojroot import here\n",
    "import pandas as pd\n",
    "import numpy as np\n",
    "import allel\n",
    "import yaml\n",
    "import matplotlib.pyplot as plt\n",
    "import functools\n",
    "import seaborn as sns\n",
    "import dask.array as da\n",
    "%matplotlib inline\n",
    "%config InlineBackend.figure_format = 'retina'"
   ]
  },
  {
   "cell_type": "code",
   "execution_count": 2,
   "metadata": {},
   "outputs": [
    {
     "data": {
      "text/plain": [
       "<zarr.hierarchy.Group '/'>"
      ]
     },
     "execution_count": 2,
     "metadata": {},
     "output_type": "execute_result"
    }
   ],
   "source": [
    "callset_haps_path = here() / 'data/external/ag1000g/phase2/AR1/haplotypes/main/zarr/ag1000g.phase2.ar1.haplotypes'\n",
    "callset_haps = zarr.open_consolidated(str(callset_haps_path))\n",
    "callset_haps"
   ]
  },
  {
   "cell_type": "code",
   "execution_count": 3,
   "metadata": {},
   "outputs": [
    {
     "data": {
      "text/html": [
       "<div>\n",
       "<style scoped>\n",
       "    .dataframe tbody tr th:only-of-type {\n",
       "        vertical-align: middle;\n",
       "    }\n",
       "\n",
       "    .dataframe tbody tr th {\n",
       "        vertical-align: top;\n",
       "    }\n",
       "\n",
       "    .dataframe thead th {\n",
       "        text-align: right;\n",
       "    }\n",
       "</style>\n",
       "<table border=\"1\" class=\"dataframe\">\n",
       "  <thead>\n",
       "    <tr style=\"text-align: right;\">\n",
       "      <th></th>\n",
       "      <th>label</th>\n",
       "      <th>ox_code</th>\n",
       "      <th>population</th>\n",
       "      <th>label_aug</th>\n",
       "      <th>country</th>\n",
       "      <th>region</th>\n",
       "      <th>sex</th>\n",
       "      <th>m_s</th>\n",
       "    </tr>\n",
       "  </thead>\n",
       "  <tbody>\n",
       "    <tr>\n",
       "      <th>0</th>\n",
       "      <td>AA0040-Ca</td>\n",
       "      <td>AA0040-C</td>\n",
       "      <td>GHcol</td>\n",
       "      <td>AA0040-Ca [Ghana, Twifo_Praso, M F]</td>\n",
       "      <td>Ghana</td>\n",
       "      <td>Twifo_Praso</td>\n",
       "      <td>F</td>\n",
       "      <td>M</td>\n",
       "    </tr>\n",
       "    <tr>\n",
       "      <th>1</th>\n",
       "      <td>AA0040-Cb</td>\n",
       "      <td>AA0040-C</td>\n",
       "      <td>GHcol</td>\n",
       "      <td>AA0040-Cb [Ghana, Twifo_Praso, M F]</td>\n",
       "      <td>Ghana</td>\n",
       "      <td>Twifo_Praso</td>\n",
       "      <td>F</td>\n",
       "      <td>M</td>\n",
       "    </tr>\n",
       "    <tr>\n",
       "      <th>2</th>\n",
       "      <td>AA0041-Ca</td>\n",
       "      <td>AA0041-C</td>\n",
       "      <td>GHcol</td>\n",
       "      <td>AA0041-Ca [Ghana, Twifo_Praso, M F]</td>\n",
       "      <td>Ghana</td>\n",
       "      <td>Twifo_Praso</td>\n",
       "      <td>F</td>\n",
       "      <td>M</td>\n",
       "    </tr>\n",
       "    <tr>\n",
       "      <th>3</th>\n",
       "      <td>AA0041-Cb</td>\n",
       "      <td>AA0041-C</td>\n",
       "      <td>GHcol</td>\n",
       "      <td>AA0041-Cb [Ghana, Twifo_Praso, M F]</td>\n",
       "      <td>Ghana</td>\n",
       "      <td>Twifo_Praso</td>\n",
       "      <td>F</td>\n",
       "      <td>M</td>\n",
       "    </tr>\n",
       "    <tr>\n",
       "      <th>4</th>\n",
       "      <td>AA0042-Ca</td>\n",
       "      <td>AA0042-C</td>\n",
       "      <td>GHcol</td>\n",
       "      <td>AA0042-Ca [Ghana, Takoradi, M F]</td>\n",
       "      <td>Ghana</td>\n",
       "      <td>Takoradi</td>\n",
       "      <td>F</td>\n",
       "      <td>M</td>\n",
       "    </tr>\n",
       "  </tbody>\n",
       "</table>\n",
       "</div>"
      ],
      "text/plain": [
       "       label   ox_code population                            label_aug  \\\n",
       "0  AA0040-Ca  AA0040-C      GHcol  AA0040-Ca [Ghana, Twifo_Praso, M F]   \n",
       "1  AA0040-Cb  AA0040-C      GHcol  AA0040-Cb [Ghana, Twifo_Praso, M F]   \n",
       "2  AA0041-Ca  AA0041-C      GHcol  AA0041-Ca [Ghana, Twifo_Praso, M F]   \n",
       "3  AA0041-Cb  AA0041-C      GHcol  AA0041-Cb [Ghana, Twifo_Praso, M F]   \n",
       "4  AA0042-Ca  AA0042-C      GHcol     AA0042-Ca [Ghana, Takoradi, M F]   \n",
       "\n",
       "  country       region sex m_s  \n",
       "0   Ghana  Twifo_Praso   F   M  \n",
       "1   Ghana  Twifo_Praso   F   M  \n",
       "2   Ghana  Twifo_Praso   F   M  \n",
       "3   Ghana  Twifo_Praso   F   M  \n",
       "4   Ghana     Takoradi   F   M  "
      ]
     },
     "execution_count": 3,
     "metadata": {},
     "output_type": "execute_result"
    }
   ],
   "source": [
    "df_haps_a = pd.read_csv(here() / 'data/external/ag1000g/phase2/AR1/haplotypes/main/haplotypes.autosomes.meta.txt',\n",
    "                        sep='\\t', index_col=0)\n",
    "df_haps_a.head()"
   ]
  },
  {
   "cell_type": "code",
   "execution_count": 4,
   "metadata": {},
   "outputs": [
    {
     "data": {
      "text/html": [
       "<div>\n",
       "<style scoped>\n",
       "    .dataframe tbody tr th:only-of-type {\n",
       "        vertical-align: middle;\n",
       "    }\n",
       "\n",
       "    .dataframe tbody tr th {\n",
       "        vertical-align: top;\n",
       "    }\n",
       "\n",
       "    .dataframe thead th {\n",
       "        text-align: right;\n",
       "    }\n",
       "</style>\n",
       "<table border=\"1\" class=\"dataframe\">\n",
       "  <thead>\n",
       "    <tr style=\"text-align: right;\">\n",
       "      <th></th>\n",
       "      <th>label</th>\n",
       "      <th>ox_code</th>\n",
       "      <th>population</th>\n",
       "      <th>label_aug</th>\n",
       "      <th>country</th>\n",
       "      <th>region</th>\n",
       "      <th>sex</th>\n",
       "      <th>m_s</th>\n",
       "    </tr>\n",
       "  </thead>\n",
       "  <tbody>\n",
       "    <tr>\n",
       "      <th>0</th>\n",
       "      <td>AA0040-Ca</td>\n",
       "      <td>AA0040-C</td>\n",
       "      <td>GHcol</td>\n",
       "      <td>AA0040-Ca [Ghana, Twifo_Praso, M F]</td>\n",
       "      <td>Ghana</td>\n",
       "      <td>Twifo_Praso</td>\n",
       "      <td>F</td>\n",
       "      <td>M</td>\n",
       "    </tr>\n",
       "    <tr>\n",
       "      <th>1</th>\n",
       "      <td>AA0040-Cb</td>\n",
       "      <td>AA0040-C</td>\n",
       "      <td>GHcol</td>\n",
       "      <td>AA0040-Cb [Ghana, Twifo_Praso, M F]</td>\n",
       "      <td>Ghana</td>\n",
       "      <td>Twifo_Praso</td>\n",
       "      <td>F</td>\n",
       "      <td>M</td>\n",
       "    </tr>\n",
       "    <tr>\n",
       "      <th>2</th>\n",
       "      <td>AA0041-Ca</td>\n",
       "      <td>AA0041-C</td>\n",
       "      <td>GHcol</td>\n",
       "      <td>AA0041-Ca [Ghana, Twifo_Praso, M F]</td>\n",
       "      <td>Ghana</td>\n",
       "      <td>Twifo_Praso</td>\n",
       "      <td>F</td>\n",
       "      <td>M</td>\n",
       "    </tr>\n",
       "    <tr>\n",
       "      <th>3</th>\n",
       "      <td>AA0041-Cb</td>\n",
       "      <td>AA0041-C</td>\n",
       "      <td>GHcol</td>\n",
       "      <td>AA0041-Cb [Ghana, Twifo_Praso, M F]</td>\n",
       "      <td>Ghana</td>\n",
       "      <td>Twifo_Praso</td>\n",
       "      <td>F</td>\n",
       "      <td>M</td>\n",
       "    </tr>\n",
       "    <tr>\n",
       "      <th>4</th>\n",
       "      <td>AA0042-Ca</td>\n",
       "      <td>AA0042-C</td>\n",
       "      <td>GHcol</td>\n",
       "      <td>AA0042-Ca [Ghana, Takoradi, M F]</td>\n",
       "      <td>Ghana</td>\n",
       "      <td>Takoradi</td>\n",
       "      <td>F</td>\n",
       "      <td>M</td>\n",
       "    </tr>\n",
       "  </tbody>\n",
       "</table>\n",
       "</div>"
      ],
      "text/plain": [
       "       label   ox_code population                            label_aug  \\\n",
       "0  AA0040-Ca  AA0040-C      GHcol  AA0040-Ca [Ghana, Twifo_Praso, M F]   \n",
       "1  AA0040-Cb  AA0040-C      GHcol  AA0040-Cb [Ghana, Twifo_Praso, M F]   \n",
       "2  AA0041-Ca  AA0041-C      GHcol  AA0041-Ca [Ghana, Twifo_Praso, M F]   \n",
       "3  AA0041-Cb  AA0041-C      GHcol  AA0041-Cb [Ghana, Twifo_Praso, M F]   \n",
       "4  AA0042-Ca  AA0042-C      GHcol     AA0042-Ca [Ghana, Takoradi, M F]   \n",
       "\n",
       "  country       region sex m_s  \n",
       "0   Ghana  Twifo_Praso   F   M  \n",
       "1   Ghana  Twifo_Praso   F   M  \n",
       "2   Ghana  Twifo_Praso   F   M  \n",
       "3   Ghana  Twifo_Praso   F   M  \n",
       "4   Ghana     Takoradi   F   M  "
      ]
     },
     "execution_count": 4,
     "metadata": {},
     "output_type": "execute_result"
    }
   ],
   "source": [
    "df_haps_x = pd.read_csv(here() / 'data/external/ag1000g/phase2/AR1/haplotypes/main/haplotypes.X.meta.txt',\n",
    "                        sep='\\t', index_col=0)\n",
    "df_haps_x.head()"
   ]
  },
  {
   "cell_type": "code",
   "execution_count": 98,
   "metadata": {},
   "outputs": [
    {
     "data": {
      "text/plain": [
       "['ao_col',\n",
       " 'bf_col',\n",
       " 'bf_gam',\n",
       " 'ci_col',\n",
       " 'cm_sav_gam',\n",
       " 'fr_gam',\n",
       " 'ga_gam',\n",
       " 'gh_col',\n",
       " 'gh_gam',\n",
       " 'gm',\n",
       " 'gn_gam',\n",
       " 'gq_gam',\n",
       " 'gw',\n",
       " 'ke',\n",
       " 'ug_gam']"
      ]
     },
     "execution_count": 98,
     "metadata": {},
     "output_type": "execute_result"
    }
   ],
   "source": [
    "with open('pop_defs.yml', mode='r') as f:\n",
    "    pop_defs = yaml.safe_load(f)\n",
    "list(pop_defs)"
   ]
  },
  {
   "cell_type": "code",
   "execution_count": 99,
   "metadata": {},
   "outputs": [
    {
     "name": "stdout",
     "output_type": "stream",
     "text": [
      "ao_col Angola An. coluzzii 6000 156\n",
      "bf_col Burkina Faso An. coluzzii 1000 150\n",
      "bf_gam Burkina Faso An. gambiae 1000 184\n",
      "ci_col Cote d'Ivoire An. coluzzii 2000 142\n",
      "cm_sav_gam Cameroon (savanna) An. gambiae 1000 192\n",
      "fr_gam Mayotte An. gambiae 16000 48\n",
      "ga_gam Gabon An. gambiae 10000 138\n",
      "gh_col Ghana An. coluzzii 1400 110\n",
      "gh_gam Ghana An. gambiae 1600 24\n",
      "gm The Gambia 2600 130\n",
      "gn_gam Guinea An. gambiae 1000 80\n",
      "gq_gam Bioko An. gambiae 7000 18\n",
      "gw Guinea-Bissau 1000 182\n",
      "ke Kenya 60000 96\n",
      "ug_gam Uganda An. gambiae 1000 224\n"
     ]
    }
   ],
   "source": [
    "for pop, config in pop_defs.items():\n",
    "    print(pop, \n",
    "          config['label'],\n",
    "          config['h12_window_size'],\n",
    "          len(df_haps_a.query(config['query'])))"
   ]
  },
  {
   "cell_type": "code",
   "execution_count": 8,
   "metadata": {},
   "outputs": [
    {
     "name": "stdout",
     "output_type": "stream",
     "text": [
      "2R 61545105\n",
      "3R 53200684\n",
      "2L 49364325\n",
      "UNKN 42389979\n",
      "3L 41963435\n",
      "X 24393108\n",
      "Y_unplaced 237045\n",
      "Mt 15363\n"
     ]
    }
   ],
   "source": [
    "import pyfasta\n",
    "genome_path = here() / 'data/external/vectorbase/Anopheles-gambiae-PEST_CHROMOSOMES_AgamP4.fa'\n",
    "genome = pyfasta.Fasta(str(genome_path), key_fn=lambda x: x.split()[0])\n",
    "for seq_id in genome:\n",
    "    print(seq_id, len(genome[seq_id]))"
   ]
  },
  {
   "cell_type": "code",
   "execution_count": 19,
   "metadata": {},
   "outputs": [],
   "source": [
    "@functools.lru_cache(maxsize=None)\n",
    "def compute_h12(pop, chromosome, window_size, window_step, centromere_pad=10_000):\n",
    "    \n",
    "    # setup data\n",
    "    if chromosome == 'X':\n",
    "        loc_haps = df_haps_x.query(pop_defs[pop]['query']).index.values\n",
    "        pos = callset_haps[chromosome]['variants/POS'][:]\n",
    "        ht = allel.GenotypeDaskArray(callset_haps[chromosome]['calldata/GT']).to_haplotypes()\n",
    "        ht_pop = da.take(ht, loc_haps, axis=1).compute()\n",
    "        \n",
    "    else:\n",
    "        # concatenate data from both arms\n",
    "        # remember, right arm goes on the left\n",
    "        loc_haps = df_haps_a.query(pop_defs[pop]['query']).index.values\n",
    "        arm_r = f'{chromosome}R'\n",
    "        arm_l = f'{chromosome}L'\n",
    "        pos_r = callset_haps[arm_r]['variants/POS'][:]\n",
    "        pos_l = callset_haps[arm_l]['variants/POS'][:]\n",
    "        pos = np.concatenate([pos_r, pos_l + len(genome[arm_r]) + centromere_pad])\n",
    "        ht_r = allel.GenotypeDaskArray(callset_haps[arm_r]['calldata/GT']).to_haplotypes()\n",
    "        ht_l = allel.GenotypeDaskArray(callset_haps[arm_l]['calldata/GT']).to_haplotypes()\n",
    "        ht = da.concatenate([ht_r, ht_l], axis=0)\n",
    "        ht_pop = da.take(ht, loc_haps, axis=1).compute()\n",
    "        \n",
    "    # perform the scan\n",
    "    windows = allel.moving_statistic(pos, statistic=lambda v: [v[0], v[-1]], size=window_size, step=window_step)\n",
    "    h1, h12, h123, h2_h1 = allel.moving_garud_h(ht_pop, size=window_size, step=window_step)\n",
    "    \n",
    "    return windows, h1, h12, h123, h2_h1\n"
   ]
  },
  {
   "cell_type": "code",
   "execution_count": 100,
   "metadata": {},
   "outputs": [],
   "source": [
    "def inspect(pop, chromosome, window_size=None, window_step=200):\n",
    "    if not window_size:\n",
    "        window_size = pop_defs[pop]['h12_window_size']\n",
    "    if not window_step:\n",
    "        window_step = window_size // 2\n",
    "    windows, h1, h12, h123, h2_h1 = compute_h12(pop, \n",
    "                                                chromosome=chromosome,\n",
    "                                                window_size=window_size,\n",
    "                                                window_step=window_step)\n",
    "\n",
    "    x = windows.mean(axis=1)\n",
    "    y = h12\n",
    "    fig, ax = plt.subplots(facecolor='w', figsize=(x.max()/4e6, 4))\n",
    "    ax.plot(x, y, linestyle=' ', marker='o', mec='k', mfc='none', markersize=1)\n",
    "    xticks = ax.get_xticks()\n",
    "    ax.set_xticks(xticks)\n",
    "    ax.set_xticklabels(xticks/1e6)\n",
    "    ax.set_xlabel(f'Chromosome {chromosome} position (Mbp)')\n",
    "    ax.set_ylabel('H12')\n",
    "    ax.set_xlim(0, windows[-1, 1])\n",
    "    ax.set_ylim(0, 1)\n",
    "    ax.set_title(f\"{pop_defs[pop]['label']}; window size: {window_size}; window step: {window_step}\")\n",
    "    plt.show()"
   ]
  },
  {
   "cell_type": "code",
   "execution_count": 101,
   "metadata": {},
   "outputs": [
    {
     "data": {
      "text/plain": [
       "['ao_col',\n",
       " 'bf_col',\n",
       " 'bf_gam',\n",
       " 'ci_col',\n",
       " 'cm_sav_gam',\n",
       " 'fr_gam',\n",
       " 'ga_gam',\n",
       " 'gh_col',\n",
       " 'gh_gam',\n",
       " 'gm',\n",
       " 'gn_gam',\n",
       " 'gq_gam',\n",
       " 'gw',\n",
       " 'ke',\n",
       " 'ug_gam']"
      ]
     },
     "execution_count": 101,
     "metadata": {},
     "output_type": "execute_result"
    }
   ],
   "source": [
    "pops = list(pop_defs)\n",
    "pops"
   ]
  },
  {
   "cell_type": "code",
   "execution_count": null,
   "metadata": {},
   "outputs": [],
   "source": [
    "for chromosome in '2', '3', 'X':\n",
    "    inspect(pops[0], chromosome)\n"
   ]
  },
  {
   "cell_type": "code",
   "execution_count": null,
   "metadata": {},
   "outputs": [],
   "source": [
    "for chromosome in '2', '3', 'X':\n",
    "    inspect(pops[1], chromosome)\n"
   ]
  },
  {
   "cell_type": "code",
   "execution_count": null,
   "metadata": {},
   "outputs": [],
   "source": [
    "for chromosome in '2', '3', 'X':\n",
    "    inspect(pops[2], chromosome)\n"
   ]
  },
  {
   "cell_type": "code",
   "execution_count": null,
   "metadata": {},
   "outputs": [],
   "source": [
    "for chromosome in '2', '3', 'X':\n",
    "    inspect(pops[3], chromosome)\n"
   ]
  },
  {
   "cell_type": "code",
   "execution_count": null,
   "metadata": {},
   "outputs": [],
   "source": [
    "for chromosome in '2', '3', 'X':\n",
    "    inspect(pops[4], chromosome)\n"
   ]
  },
  {
   "cell_type": "code",
   "execution_count": null,
   "metadata": {},
   "outputs": [],
   "source": [
    "for chromosome in '2', '3', 'X':\n",
    "    inspect(pops[5], chromosome)\n"
   ]
  },
  {
   "cell_type": "code",
   "execution_count": null,
   "metadata": {},
   "outputs": [],
   "source": [
    "for chromosome in '2', '3', 'X':\n",
    "    inspect(pops[6], chromosome)\n"
   ]
  },
  {
   "cell_type": "code",
   "execution_count": null,
   "metadata": {},
   "outputs": [],
   "source": [
    "for chromosome in '2', '3', 'X':\n",
    "    inspect(pops[7], chromosome)\n"
   ]
  },
  {
   "cell_type": "code",
   "execution_count": null,
   "metadata": {},
   "outputs": [],
   "source": [
    "for chromosome in '2', '3', 'X':\n",
    "    inspect(pops[8], chromosome)\n"
   ]
  },
  {
   "cell_type": "code",
   "execution_count": null,
   "metadata": {},
   "outputs": [],
   "source": [
    "for chromosome in '2', '3', 'X':\n",
    "    inspect(pops[9], chromosome)\n"
   ]
  },
  {
   "cell_type": "code",
   "execution_count": null,
   "metadata": {},
   "outputs": [],
   "source": [
    "for chromosome in '2', '3', 'X':\n",
    "    inspect(pops[10], chromosome)\n"
   ]
  },
  {
   "cell_type": "code",
   "execution_count": null,
   "metadata": {},
   "outputs": [],
   "source": [
    "for chromosome in '2', '3', 'X':\n",
    "    inspect(pops[11], chromosome)\n"
   ]
  },
  {
   "cell_type": "code",
   "execution_count": null,
   "metadata": {},
   "outputs": [],
   "source": [
    "for chromosome in '2', '3', 'X':\n",
    "    inspect(pops[12], chromosome)\n"
   ]
  },
  {
   "cell_type": "code",
   "execution_count": null,
   "metadata": {},
   "outputs": [],
   "source": [
    "for chromosome in '2', '3', 'X':\n",
    "    inspect(pops[13], chromosome)\n"
   ]
  },
  {
   "cell_type": "code",
   "execution_count": null,
   "metadata": {},
   "outputs": [],
   "source": [
    "for chromosome in '2', '3', 'X':\n",
    "    inspect(pops[14], chromosome)\n"
   ]
  },
  {
   "cell_type": "code",
   "execution_count": null,
   "metadata": {},
   "outputs": [],
   "source": []
  }
 ],
 "metadata": {
  "kernelspec": {
   "display_name": "Python 3",
   "language": "python",
   "name": "python3"
  },
  "language_info": {
   "codemirror_mode": {
    "name": "ipython",
    "version": 3
   },
   "file_extension": ".py",
   "mimetype": "text/x-python",
   "name": "python",
   "nbconvert_exporter": "python",
   "pygments_lexer": "ipython3",
   "version": "3.7.6"
  }
 },
 "nbformat": 4,
 "nbformat_minor": 4
}
