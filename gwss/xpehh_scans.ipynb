{
 "cells": [
  {
   "cell_type": "markdown",
   "metadata": {},
   "source": [
    "# XP-EHH genome-wide selection scans\n",
    "\n",
    "This notebook runs genome-wide selection scans."
   ]
  },
  {
   "cell_type": "code",
   "execution_count": 1,
   "metadata": {},
   "outputs": [],
   "source": [
    "%run setup.ipynb"
   ]
  },
  {
   "cell_type": "code",
   "execution_count": 2,
   "metadata": {},
   "outputs": [
    {
     "name": "stdout",
     "output_type": "stream",
     "text": [
      "ao_col 156\n",
      "bf_col 150\n",
      "bf_gam 184\n",
      "ci_col 142\n",
      "cm_sav_gam 192\n",
      "fr_gam 48\n",
      "ga_gam 138\n",
      "gh_col 110\n",
      "gh_gam 24\n",
      "gm 130\n",
      "gn_gam 80\n",
      "gq_gam 18\n",
      "gw 182\n",
      "ke 96\n",
      "ug_gam 224\n"
     ]
    }
   ],
   "source": [
    "for pop, config in pop_defs.items():\n",
    "    print(pop, \n",
    "          len(df_haps_a.query(config['query'])))"
   ]
  },
  {
   "cell_type": "code",
   "execution_count": 3,
   "metadata": {},
   "outputs": [],
   "source": [
    "def load_pop_haplotypes(pop, chromosome):\n",
    "    \n",
    "    # setup haplotypes\n",
    "    if chromosome == 'X':\n",
    "        loc_haps = df_haps_x.query(pop_defs[pop]['query']).index.values\n",
    "        pos = callset_haps[chromosome]['variants/POS'][:]\n",
    "        ht = allel.GenotypeDaskArray(callset_haps[chromosome]['calldata/GT']).to_haplotypes()\n",
    "        ht_pop = da.take(ht, loc_haps, axis=1).compute()\n",
    "        \n",
    "    else:\n",
    "        # concatenate data from both arms\n",
    "        # remember, right arm goes on the left\n",
    "        loc_haps = df_haps_a.query(pop_defs[pop]['query']).index.values\n",
    "        arm_r = f'{chromosome}R'\n",
    "        arm_l = f'{chromosome}L'\n",
    "        pos_r = callset_haps[arm_r]['variants/POS'][:]\n",
    "        pos_l = callset_haps[arm_l]['variants/POS'][:]\n",
    "        pos = np.concatenate([pos_r, pos_l + len(genome[arm_r])])\n",
    "        ht_r = allel.GenotypeDaskArray(callset_haps[arm_r]['calldata/GT']).to_haplotypes()\n",
    "        ht_l = allel.GenotypeDaskArray(callset_haps[arm_l]['calldata/GT']).to_haplotypes()\n",
    "        ht = da.concatenate([ht_r, ht_l], axis=0)\n",
    "        ht_pop = allel.HaplotypeArray(da.take(ht, loc_haps, axis=1).compute())\n",
    "\n",
    "    return pos, ht_pop\n",
    "\n",
    "\n",
    "def load_haplotypes(pop1, pop2, chromosome, min_mac=2):\n",
    "    \n",
    "    # load haplotype data\n",
    "    pos, ht1 = load_pop_haplotypes(pop1, chromosome)\n",
    "    _, ht2 = load_pop_haplotypes(pop2, chromosome)\n",
    "    \n",
    "    # remove non-segregating variants\n",
    "    ac1 = ht1.count_alleles(max_allele=1)\n",
    "    ac2 = ht2.count_alleles(max_allele=1)\n",
    "    ac = ac1 + ac2\n",
    "    loc_seg = ac.min(axis=1) >= min_mac\n",
    "    pos_seg = pos[loc_seg]\n",
    "    ht1_seg = ht1[loc_seg]\n",
    "    ht2_seg = ht2[loc_seg]\n",
    "    \n",
    "    # TODO load accessibility\n",
    "    \n",
    "    return pos_seg, ht1_seg, ht2_seg"
   ]
  },
  {
   "cell_type": "code",
   "execution_count": 5,
   "metadata": {},
   "outputs": [],
   "source": [
    "def compute_xpehh(pop1, pop2, chromosome, min_ehh=0.05, max_gap=10_000, gap_scale=1_000, include_edges=True, min_mac=2):\n",
    "\n",
    "    # run xpehh scan\n",
    "    pos, ht1, ht2 = load_haplotypes(pop1, pop2, chromosome=chromosome, min_mac=min_mac)\n",
    "    gpos = np.take(gmap[chromosome], pos-1)\n",
    "    # TODO use accessibility\n",
    "    xpehh = allel.xpehh(ht1, ht2, pos, map_pos=gpos, min_ehh=min_ehh, max_gap=max_gap,\n",
    "                        gap_scale=gap_scale)\n",
    "\n",
    "    # remove nans\n",
    "    loc_nan = np.isnan(xpehh)\n",
    "    pos = pos[~loc_nan]\n",
    "    gpos = gpos[~loc_nan]\n",
    "    xpehh = xpehh[~loc_nan]\n",
    "    \n",
    "    return pos, gpos, xpehh\n"
   ]
  },
  {
   "cell_type": "code",
   "execution_count": 6,
   "metadata": {},
   "outputs": [],
   "source": [
    "xpehh_root = zarr.open(str(here() / 'data/gwss/xpehh/xpehh.zarr'))"
   ]
  },
  {
   "cell_type": "code",
   "execution_count": 40,
   "metadata": {},
   "outputs": [],
   "source": [
    "def run_xpehh(pop1, pop2, chromosome, min_ehh=0.05, max_gap=10_000, gap_scale=1_000, include_edges=True, min_mac=2, window_size=500, window_step=250, markersize=1):\n",
    "\n",
    "    # avoid running the same scan twice\n",
    "    orig_pop1, orig_pop2 = pop1, pop2\n",
    "    pop1, pop2 = sorted([pop1, pop2])\n",
    "    \n",
    "    # setup zarr group to store data\n",
    "    grp_path = f'/{pop1}_{pop2}/{chromosome}'\n",
    "    grp = xpehh_root.require_group(grp_path)\n",
    "    complete = grp.attrs.get('complete', False)\n",
    "    \n",
    "    if complete:\n",
    "        # previously run, load from zarr\n",
    "        pos = grp['pos'][:]\n",
    "        gpos = grp['gpos'][:]\n",
    "        xpehh = grp['xpehh'][:]\n",
    "        \n",
    "    else:\n",
    "        # run computation\n",
    "        pos, gpos, xpehh = compute_xpehh(pop1, pop2, chromosome, min_ehh=min_ehh, max_gap=max_gap, gap_scale=gap_scale, include_edges=include_edges, min_mac=min_mac)\n",
    "        grp.create_dataset('pos', data=pos, overwrite=True)\n",
    "        grp.create_dataset('gpos', data=gpos, overwrite=True)\n",
    "        grp.create_dataset('xpehh', data=xpehh, overwrite=True)\n",
    "        grp.attrs['complete'] = True\n",
    "        \n",
    "    if pop1 == orig_pop2:\n",
    "        # flip back\n",
    "        xpehh = -xpehh\n",
    "        pop1, pop2 = pop2, pop1\n",
    "\n",
    "    # centre\n",
    "    xpehh = xpehh - np.median(xpehh)\n",
    "    \n",
    "    # clip at zero to focus on selection in pop1\n",
    "    xpehh1 = np.clip(xpehh, a_min=0, a_max=None)\n",
    "\n",
    "    # diagnostics\n",
    "    palette = sns.color_palette(\"Greens\", 5)[1:]\n",
    "    y_max = allel.moving_statistic(xpehh1, np.max, size=window_size, step=window_step)\n",
    "    y_pc95 = allel.moving_statistic(xpehh1, lambda v: np.percentile(v, 95), size=window_size, step=window_step)\n",
    "    y_pc75 = allel.moving_statistic(xpehh1, lambda v: np.percentile(v, 75), size=window_size, step=window_step)\n",
    "    y_pc50 = allel.moving_statistic(xpehh1, np.median, size=window_size, step=window_step)\n",
    "\n",
    "    # scale figures to chromosome size\n",
    "    figwidth = pos.max()/1e7\n",
    "\n",
    "    # plot in physical space\n",
    "    x = allel.moving_statistic(pos, np.mean, size=window_size, step=window_step)\n",
    "    fig, ax = plt.subplots(figsize=(figwidth, 3), facecolor='w')\n",
    "    sns.despine(ax=ax, offset=3)\n",
    "    ax.plot(x, y_max, marker='o', linestyle=' ', markersize=markersize, color=palette[0], label='max')\n",
    "    ax.plot(x, y_pc95, marker='o', linestyle=' ', markersize=markersize, color=palette[1], label='pc95')\n",
    "    ax.plot(x, y_pc75, marker='o', linestyle=' ', markersize=markersize, color=palette[2], label='pc75')\n",
    "    ax.plot(x, y_pc50, marker='o', linestyle=' ', markersize=markersize, color=palette[3], label='pc50')\n",
    "    lgd = ax.legend(loc='upper left')\n",
    "    for handle in lgd.legendHandles:\n",
    "        handle._legmarker.set_markersize(6)\n",
    "    ax.set_ylabel('XP-EHH')\n",
    "    xticks = ax.get_xticks()\n",
    "    ax.set_xticks(xticks)\n",
    "    ax.set_xticklabels(xticks/1e6)\n",
    "    ax.set_xlabel(f'Chromosome {chromosome} position (Mbp)')\n",
    "    ax.set_title(f\"{pop_defs[pop1]['label']} versus {pop_defs[pop2]['label']}\")\n",
    "    ax.set_xlim(0, pos[-1])\n",
    "    ax.set_ylim(0, 6)\n",
    "\n",
    "    # plot in genetic space\n",
    "    x = allel.moving_statistic(gpos, np.mean, size=window_size, step=window_step)\n",
    "    fig, ax = plt.subplots(figsize=(figwidth, 3), facecolor='w')\n",
    "    sns.despine(ax=ax, offset=3)\n",
    "    ax.plot(x, y_max, marker='o', linestyle=' ', markersize=markersize, color=palette[0], label='max')\n",
    "    ax.plot(x, y_pc95, marker='o', linestyle=' ', markersize=markersize, color=palette[1], label='pc95')\n",
    "    ax.plot(x, y_pc75, marker='o', linestyle=' ', markersize=markersize, color=palette[2], label='pc75')\n",
    "    ax.plot(x, y_pc50, marker='o', linestyle=' ', markersize=markersize, color=palette[3], label='pc50')\n",
    "    lgd = ax.legend(loc='upper left')\n",
    "    for handle in lgd.legendHandles:\n",
    "        handle._legmarker.set_markersize(6)\n",
    "    ax.set_ylabel('XP-EHH')\n",
    "    ax.set_xlabel(f'Chromosome {chromosome} position (cM)')\n",
    "    ax.set_title(f\"{pop_defs[pop1]['label']} versus {pop_defs[pop2]['label']}\")\n",
    "    ax.set_xlim(0, gpos[-1])\n",
    "    ax.set_ylim(0, 6)\n",
    "    \n",
    "    plt.show()\n",
    "    plt.close()\n"
   ]
  },
  {
   "cell_type": "code",
   "execution_count": 41,
   "metadata": {},
   "outputs": [
    {
     "data": {
      "text/plain": [
       "['ao_col',\n",
       " 'bf_col',\n",
       " 'bf_gam',\n",
       " 'ci_col',\n",
       " 'cm_sav_gam',\n",
       " 'fr_gam',\n",
       " 'ga_gam',\n",
       " 'gh_col',\n",
       " 'gh_gam',\n",
       " 'gm',\n",
       " 'gn_gam',\n",
       " 'gq_gam',\n",
       " 'gw',\n",
       " 'ke',\n",
       " 'ug_gam']"
      ]
     },
     "execution_count": 41,
     "metadata": {},
     "output_type": "execute_result"
    }
   ],
   "source": [
    "list(pop_defs)"
   ]
  },
  {
   "cell_type": "code",
   "execution_count": 42,
   "metadata": {},
   "outputs": [],
   "source": [
    "pop_pairs = (\n",
    "    # Angola An. coluzzii\n",
    "    ('ao_col', 'gw'),  # comparison with neutral pop\n",
    "    ('ao_col', 'bf_col'),  # geographical comparison\n",
    "    # Burkina Faso An. coluzzii\n",
    "    ('bf_col', 'gw'),  # comparison with neutral pop\n",
    "    ('bf_col', 'ao_col'),  # geographical comparison\n",
    "    ('bf_col', 'bf_gam'),  # species comparison\n",
    "    # Burkina Faso An. gambiae\n",
    "    ('bf_gam', 'gw'),  # comparison with neutral pop\n",
    "    ('bf_gam', 'ug_gam'),  # geographical comparison\n",
    "    ('bf_gam', 'bf_col'),  # species comparison\n",
    "    # Cote d'Ivoire An. coluzzii\n",
    "    ('ci_col', 'gw'),  # comparison with neutral pop\n",
    "    ('ci_col', 'ao_col'),  # geographical comparison\n",
    "    # Cameroon An. gambiae\n",
    "    ('cm_sav_gam', 'gw'),  # comparison with neutral pop\n",
    "    ('cm_sav_gam', 'ug_gam'),  # geographical comparison\n",
    "    # Mayotte An. gambiae\n",
    "    ('fr_gam', 'gw'),  # comparison with neutral pop\n",
    "    ('fr_gam', 'bf_gam'),  # geographical comparison\n",
    "    ('fr_gam', 'ug_gam'),  # geographical comparison\n",
    "    # Gabon An. gambiae\n",
    "    ('ga_gam', 'gw'),  # comparison with neutral pop\n",
    "    ('ga_gam', 'bf_gam'),  # geographical comparison\n",
    "    ('ga_gam', 'ug_gam'),  # geographical comparison\n",
    "    # Ghana An. coluzzii\n",
    "    ('gh_col', 'gw'),  # comparison with neutral pop\n",
    "    ('gh_col', 'ao_col'),  # geographical comparison\n",
    "    ('gh_col', 'gh_gam'),  # species comparison\n",
    "    # Ghana An. gambiae\n",
    "    ('gh_gam', 'gw'),  # comparison with neutral pop\n",
    "    ('gh_gam', 'ug_gam'),  # geographical comparison\n",
    "    ('gh_gam', 'gh_col'),  # species comparison\n",
    "    # The Gambia\n",
    "    ('gm', 'gq_gam'),  # comparison with neutral pop\n",
    "    ('gm', 'bf_gam'),  \n",
    "    ('gm', 'bf_col'),  \n",
    "    # Guinea An. gambiae\n",
    "    ('gn_gam', 'gw'),  # comparison with neutral pop\n",
    "    ('gn_gam', 'ug_gam'),  # geographical comparison\n",
    "    # Bioko An. gambiae\n",
    "    ('gq_gam', 'gw'),  # comparison with neutral pop\n",
    "    ('gq_gam', 'bf_gam'),  # geographical comparison\n",
    "    ('gq_gam', 'ug_gam'),  # geographical comparison\n",
    "    # Guinea-Bissau\n",
    "    ('gw', 'gq_gam'),  # comparison with neutral pop\n",
    "    ('gw', 'bf_gam'),  \n",
    "    ('gw', 'bf_col'),  \n",
    "    # Kenya\n",
    "    ('ke', 'gw'),  # comparison with neutral pop\n",
    "    ('ke', 'bf_gam'),  # geographical comparison\n",
    "    # Uganda An. gambiae\n",
    "    ('ug_gam', 'gw'),  # comparison with neutral pop\n",
    "    ('ug_gam', 'bf_gam'),  # geographical comparison\n",
    "    ('ug_gam', 'fr_gam'),  # geographical comparison\n",
    ")"
   ]
  },
  {
   "cell_type": "code",
   "execution_count": null,
   "metadata": {},
   "outputs": [],
   "source": [
    "for pop1, pop2 in pop_pairs:\n",
    "    for chromosome in '2', '3', 'X':\n",
    "        run_xpehh(pop1, pop2, chromosome)"
   ]
  },
  {
   "cell_type": "code",
   "execution_count": null,
   "metadata": {},
   "outputs": [],
   "source": [
    "print(xpehh_root.tree())"
   ]
  },
  {
   "cell_type": "code",
   "execution_count": 9,
   "metadata": {},
   "outputs": [
    {
     "data": {
      "text/plain": [
       "<zarr.hierarchy.Group '/'>"
      ]
     },
     "execution_count": 9,
     "metadata": {},
     "output_type": "execute_result"
    }
   ],
   "source": [
    "zarr.consolidate_metadata(xpehh_root.store)"
   ]
  },
  {
   "cell_type": "code",
   "execution_count": null,
   "metadata": {},
   "outputs": [],
   "source": []
  }
 ],
 "metadata": {
  "kernelspec": {
   "display_name": "Python 3",
   "language": "python",
   "name": "python3"
  },
  "language_info": {
   "codemirror_mode": {
    "name": "ipython",
    "version": 3
   },
   "file_extension": ".py",
   "mimetype": "text/x-python",
   "name": "python",
   "nbconvert_exporter": "python",
   "pygments_lexer": "ipython3",
   "version": "3.7.6"
  }
 },
 "nbformat": 4,
 "nbformat_minor": 4
}
