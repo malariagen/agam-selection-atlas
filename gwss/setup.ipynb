{
 "cells": [
  {
   "cell_type": "markdown",
   "metadata": {},
   "source": [
    "# Common setup"
   ]
  },
  {
   "cell_type": "code",
   "execution_count": null,
   "metadata": {},
   "outputs": [],
   "source": [
    "import zarr\n",
    "from pyprojroot import here\n",
    "import pandas as pd\n",
    "import numpy as np\n",
    "import allel\n",
    "import yaml\n",
    "import matplotlib.pyplot as plt\n",
    "import functools\n",
    "import seaborn as sns\n",
    "import dask.array as da\n",
    "import scipy.interpolate\n",
    "import scipy.stats\n",
    "import petl as etl\n",
    "%matplotlib inline\n",
    "%config InlineBackend.figure_format = 'retina'"
   ]
  },
  {
   "cell_type": "code",
   "execution_count": null,
   "metadata": {},
   "outputs": [],
   "source": [
    "callset_haps_path = here() / 'data/external/ag1000g/phase2/AR1/haplotypes/main/zarr/ag1000g.phase2.ar1.haplotypes'\n",
    "callset_haps = zarr.open_consolidated(str(callset_haps_path))"
   ]
  },
  {
   "cell_type": "code",
   "execution_count": null,
   "metadata": {},
   "outputs": [],
   "source": [
    "df_haps_a = pd.read_csv(here() / 'data/external/ag1000g/phase2/AR1/haplotypes/main/haplotypes.autosomes.meta.txt',\n",
    "                        sep='\\t', index_col=0)\n",
    "df_haps_a.head()"
   ]
  },
  {
   "cell_type": "code",
   "execution_count": null,
   "metadata": {},
   "outputs": [],
   "source": [
    "df_haps_x = pd.read_csv(here() / 'data/external/ag1000g/phase2/AR1/haplotypes/main/haplotypes.X.meta.txt',\n",
    "                        sep='\\t', index_col=0)\n",
    "df_haps_x.head()"
   ]
  },
  {
   "cell_type": "code",
   "execution_count": null,
   "metadata": {},
   "outputs": [],
   "source": [
    "with open('pop_defs.yml', mode='r') as f:\n",
    "    pop_defs = yaml.safe_load(f)"
   ]
  },
  {
   "cell_type": "code",
   "execution_count": null,
   "metadata": {},
   "outputs": [],
   "source": [
    "import pyfasta\n",
    "genome_path = here() / 'data/external/vectorbase/Anopheles-gambiae-PEST_CHROMOSOMES_AgamP4.fa'\n",
    "genome = pyfasta.Fasta(str(genome_path), key_fn=lambda x: x.split()[0])"
   ]
  },
  {
   "cell_type": "code",
   "execution_count": null,
   "metadata": {},
   "outputs": [],
   "source": [
    "tbl_chromatin = [\n",
    "    ('name', 'chrom', 'start', 'end'),\n",
    "    ('CHX', 'X', 20009764, 24393108),\n",
    "    ('CH2R', '2R', 58984778, 61545105),\n",
    "    ('CH2L', '2L', 1, 2431617),\n",
    "    ('PEU2L', '2L', 2487770, 5042389),\n",
    "    ('IH2L', '2L', 5078962, 5788875),\n",
    "    ('IH3R', '3R', 38988757, 41860198),\n",
    "    ('CH3R', '3R', 52161877, 53200684),\n",
    "    ('CH3L', '3L', 1, 1815119),\n",
    "    ('PEU3L', '3L', 1896830, 4235209),\n",
    "    ('IH3L', '3L', 4264713, 5031692)\n",
    "]"
   ]
  },
  {
   "cell_type": "code",
   "execution_count": null,
   "metadata": {},
   "outputs": [],
   "source": [
    "seq_ids = '2R', '2L', '3R', '3L', 'X'"
   ]
  },
  {
   "cell_type": "code",
   "execution_count": null,
   "metadata": {},
   "outputs": [],
   "source": [
    "def build_gmap():\n",
    "    \n",
    "    # crude recombination rate lookup, keyed off chromatin state\n",
    "    # use units of cM / bp, assume 2 cM / Mbp == 2x10^-6 cM / bp\n",
    "    tbl_rr = (\n",
    "        etl.wrap(tbl_chromatin)\n",
    "        # extend heterochromatin on 2L - this is empirical, based on making vgsc peaks symmetrical\n",
    "        .update('end', 2840000, where=lambda r: r.name == 'CH2L')\n",
    "        .update('start', 2840001, where=lambda r: r.name == 'PEU2L')\n",
    "        .addfield('rr', lambda r: .5e-6 if 'H' in r.name else 2e-6)\n",
    "    )\n",
    "    \n",
    "    # per-base map of recombination rates\n",
    "    rr_map = {seq_id: np.full(len(genome[seq_id]), fill_value=2e-6, dtype='f8')\n",
    "              for seq_id in seq_ids}\n",
    "    for row in tbl_rr.records():\n",
    "        rr_map[row.chrom][row.start - 1:row.end] = row.rr\n",
    "        \n",
    "    # genetic map\n",
    "    gmap = {seq_id: np.cumsum(rr_map[seq_id]) for seq_id in seq_ids}\n",
    "    gmap['2'] = np.concatenate([gmap['2R'], gmap['2L'] + gmap['2R'][-1]])\n",
    "    gmap['3'] = np.concatenate([gmap['3R'], gmap['3L'] + gmap['3R'][-1]])\n",
    "    \n",
    "    return gmap\n",
    "\n",
    "gmap = build_gmap()"
   ]
  }
 ],
 "metadata": {
  "kernelspec": {
   "display_name": "Python 3",
   "language": "python",
   "name": "python3"
  },
  "language_info": {
   "codemirror_mode": {
    "name": "ipython",
    "version": 3
   },
   "file_extension": ".py",
   "mimetype": "text/x-python",
   "name": "python",
   "nbconvert_exporter": "python",
   "pygments_lexer": "ipython3",
   "version": "3.7.6"
  }
 },
 "nbformat": 4,
 "nbformat_minor": 4
}
